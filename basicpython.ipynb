{
 "cells": [
  {
   "cell_type": "code",
   "execution_count": 3,
   "metadata": {},
   "outputs": [
    {
     "name": "stdout",
     "output_type": "stream",
     "text": [
      "hey\"i am sarnalika\"\n"
     ]
    }
   ],
   "source": [
    "print(\"hey\\\"i am sarnalika\\\"\")"
   ]
  },
  {
   "cell_type": "code",
   "execution_count": 1,
   "metadata": {},
   "outputs": [
    {
     "name": "stdout",
     "output_type": "stream",
     "text": [
      "\n",
      "f=open(\"task.txt\",\"r\")\n",
      "\n"
     ]
    }
   ],
   "source": [
    "f=open(\"task.txt\",\"w\")\n",
    "print(f.read())\n"
   ]
  },
  {
   "cell_type": "code",
   "execution_count": 6,
   "metadata": {},
   "outputs": [],
   "source": [
    "name=input(\"My name is:\")\n",
    "email=input(\"mail id:\")\n",
    "phone=input(\"number:\")\n",
    "def savedetails(name,email,phone):\n",
    "    filename=open(name + \".txt\",\"w\")\n",
    "    filename.write(f\"My name  is sarnalika and my email is {email} and number is {phone}\")\n",
    "                   \n",
    "          \n",
    "    filename.close()\n",
    "\n",
    "savedetails(\"task\",\"emqai\",\"12345678\")\n",
    "\n",
    "    "
   ]
  },
  {
   "cell_type": "code",
   "execution_count": 6,
   "metadata": {},
   "outputs": [
    {
     "name": "stdout",
     "output_type": "stream",
     "text": [
      "0\n",
      "1\n",
      "2\n",
      "3\n",
      "4\n",
      "5\n",
      "6\n"
     ]
    }
   ],
   "source": [
    "a=0\n",
    "while a<7:\n",
    "    res=a*a\n",
    "    print(a)\n",
    "    #print(res)\n",
    "   # print(res*a)#print(res) for square #print(res*a) for cube of the elements\n",
    "    a=a+1\n",
    "\n",
    "    "
   ]
  },
  {
   "cell_type": "code",
   "execution_count": 12,
   "metadata": {},
   "outputs": [
    {
     "name": "stdout",
     "output_type": "stream",
     "text": [
      "1\n",
      "2\n",
      "3\n",
      "4\n",
      "5\n",
      "6\n"
     ]
    }
   ],
   "source": [
    "for i in range (1,10,1):\n",
    "    if i==7:\n",
    "        break\n",
    "    print(i)\n"
   ]
  },
  {
   "cell_type": "code",
   "execution_count": 32,
   "metadata": {},
   "outputs": [
    {
     "name": "stdout",
     "output_type": "stream",
     "text": [
      "1\n",
      "2\n",
      "3\n",
      "4\n",
      "5\n",
      "6\n",
      "7\n",
      "8\n",
      "9\n"
     ]
    }
   ],
   "source": [
    "for i in range (1,10,1):\n",
    "    if i== 2:\n",
    "        continue\n",
    "    print(i)\n"
   ]
  },
  {
   "cell_type": "code",
   "execution_count": 34,
   "metadata": {},
   "outputs": [
    {
     "name": "stdout",
     "output_type": "stream",
     "text": [
      "['ABC', 'ABC', 'CDF', 'ABC', 'EFD', 'BCD', 'NBG']\n",
      "{'NBG', 'EFD', 'ABC', 'BCD', 'CDF'}\n",
      "['NBG', 'EFD', 'ABC', 'BCD', 'CDF']\n",
      "<class 'list'>\n",
      "<class 'set'>\n"
     ]
    }
   ],
   "source": [
    "listex =[\"ABC\",\"ABC\",\"CDF\",\"ABC\",\"EFD\",\"BCD\",\"NBG\"]\n",
    "setex =set(listex)\n",
    "back=list(setex)\n",
    "print(listex)\n",
    "print(setex)\n",
    "print(back)\n",
    "print(type(listex))\n",
    "print(type(setex))\n",
    "\n",
    "\n",
    "\n",
    "\n"
   ]
  },
  {
   "cell_type": "markdown",
   "metadata": {},
   "source": [
    "CREATE A LIST OF 10 NAMES THAT ARE RANDOM AND REPEATING FROM USER IDENTIFY THE UNIQUE ITEMS AND THEIR COUNT\n",
    "\n"
   ]
  },
  {
   "cell_type": "markdown",
   "metadata": {},
   "source": [
    "\n"
   ]
  },
  {
   "cell_type": "code",
   "execution_count": 35,
   "metadata": {},
   "outputs": [
    {
     "name": "stdout",
     "output_type": "stream",
     "text": [
      "['sarnalika']\n"
     ]
    }
   ],
   "source": [
    "names =[]\n",
    "for i in range (1,10,1):\n",
    "    name=input(\"enter the name\")\n",
    "    name=name.strip()\n",
    "    name=name.upper()\n",
    "    names.append(name)\n",
    "    #print(names)\n",
    "    unique_names=set(names)\n",
    "    #print(unique_names)\n",
    "    for search in name:\n",
    "        \n",
    "\n",
    "\n",
    "\n",
    "\n"
   ]
  },
  {
   "cell_type": "markdown",
   "metadata": {},
   "source": []
  },
  {
   "cell_type": "markdown",
   "metadata": {},
   "source": []
  },
  {
   "cell_type": "code",
   "execution_count": 2,
   "metadata": {},
   "outputs": [],
   "source": [
    "my_dict={\n",
    "\"Name\": \"Sarnalika Paul\",\n",
    "\"phone\":7278848743,\n",
    "\"email\":\"paulsarnalika@gmail.com\",\n",
    "}\n",
    "\n"
   ]
  },
  {
   "cell_type": "markdown",
   "metadata": {},
   "source": []
  },
  {
   "cell_type": "code",
   "execution_count": 5,
   "metadata": {},
   "outputs": [
    {
     "name": "stdout",
     "output_type": "stream",
     "text": [
      "Sarnalika Paul\n"
     ]
    }
   ],
   "source": [
    "\n",
    "print(my_dict[\"Name\"])"
   ]
  },
  {
   "cell_type": "markdown",
   "metadata": {},
   "source": []
  },
  {
   "cell_type": "code",
   "execution_count": 8,
   "metadata": {},
   "outputs": [
    {
     "name": "stdout",
     "output_type": "stream",
     "text": [
      "{'Name': 'Sarnalika', 'phone': 7278848743, 'email': 'paulsarnalika@gmail.com', 'address': 'Christ University'}\n"
     ]
    }
   ],
   "source": [
    "#my_dict[\"Name\"]=\"Sarnalika\"\n",
    "print(my_dict)"
   ]
  },
  {
   "cell_type": "code",
   "execution_count": 7,
   "metadata": {},
   "outputs": [
    {
     "name": "stdout",
     "output_type": "stream",
     "text": [
      "{'Name': 'Sarnalika', 'phone': 7278848743, 'email': 'paulsarnalika@gmail.com', 'address': 'Christ University'}\n"
     ]
    }
   ],
   "source": [
    "my_dict[\"address\"] = \"Christ University\"\n",
    "print(my_dict)"
   ]
  },
  {
   "cell_type": "code",
   "execution_count": 9,
   "metadata": {},
   "outputs": [
    {
     "data": {
      "text/plain": [
       "dict_values(['Sarnalika', 7278848743, 'paulsarnalika@gmail.com', 'Christ University'])"
      ]
     },
     "execution_count": 9,
     "metadata": {},
     "output_type": "execute_result"
    }
   ],
   "source": [
    "my_dict.values()"
   ]
  },
  {
   "cell_type": "code",
   "execution_count": 10,
   "metadata": {},
   "outputs": [
    {
     "name": "stdout",
     "output_type": "stream",
     "text": [
      "dict_keys(['Name', 'phone', 'email', 'address'])\n",
      "Name\n",
      "phone\n",
      "email\n",
      "address\n"
     ]
    }
   ],
   "source": [
    "print(my_dict.keys())\n",
    "for key in my_dict.keys():\n",
    "    print(key)"
   ]
  },
  {
   "cell_type": "code",
   "execution_count": 17,
   "metadata": {},
   "outputs": [
    {
     "name": "stdout",
     "output_type": "stream",
     "text": [
      "sarnalika\n",
      "debamala\n",
      "ananya\n",
      "ananya\n"
     ]
    }
   ],
   "source": [
    "students={\n",
    "    \"Names\":[\"sarnalika\",\"debamala\",\"ananya\"],\n",
    "    \"Rollnumbers\":[1,2,3],\n",
    "}\n",
    "for name in students[\"Names\"]:\n",
    "    print(name)\n",
    "print(students[\"Names\"][2])"
   ]
  },
  {
   "cell_type": "code",
   "execution_count": 22,
   "metadata": {},
   "outputs": [],
   "source": [
    "mscdsb=[\n",
    "\n",
    "{\n",
    "    \"rollnumber\":23220001,\n",
    "    \"Name\":\"Adith\",\n",
    "    \"Email\":\"adith.christ.in\",\n",
    "    \"Phone\":123456\n",
    "\n",
    "},\n",
    "{\n",
    "    \"rollnumber\":23220002,\n",
    "    \"Name\":\"Abhay\",\n",
    "    \"Email\":\"abhay.christ.in\",\n",
    "    \"Phone\":123457\n",
    "\n",
    "},\n",
    "{\n",
    "    \"rollnumber\":23220003,\n",
    "    \"Name\":\"Adarsh\",\n",
    "    \"Email\":\"adarsh.christ.in\",\n",
    "    \"phone\":123458\n",
    "}\n",
    "]"
   ]
  },
  {
   "cell_type": "code",
   "execution_count": 25,
   "metadata": {},
   "outputs": [
    {
     "name": "stdout",
     "output_type": "stream",
     "text": [
      "{'rollnumber': 23220001, 'Name': 'Adith', 'Email': 'adith.christ.in', 'Phone': 123456}\n",
      "23220001\t\n",
      "Adith\t\n",
      "adith.christ.in\t\n",
      "123456\t\n",
      "{'rollnumber': 23220002, 'Name': 'Abhay', 'Email': 'abhay.christ.in', 'Phone': 123457}\n",
      "23220002\t\n",
      "Abhay\t\n",
      "abhay.christ.in\t\n",
      "123457\t\n",
      "{'rollnumber': 23220003, 'Name': 'Adarsh', 'Email': 'adarsh.christ.in', 'phone': 123458}\n",
      "23220003\t\n",
      "Adarsh\t\n",
      "adarsh.christ.in\t\n",
      "123458\t\n"
     ]
    }
   ],
   "source": [
    "for student in mscdsb:\n",
    "    print(student)\n",
    "    for key in student.keys():\n",
    "        print(student[key],end=\"\\t\")\n",
    "        print()"
   ]
  },
  {
   "cell_type": "code",
   "execution_count": null,
   "metadata": {},
   "outputs": [],
   "source": []
  }
 ],
 "metadata": {
  "kernelspec": {
   "display_name": "Python 3",
   "language": "python",
   "name": "python3"
  },
  "language_info": {
   "codemirror_mode": {
    "name": "ipython",
    "version": 3
   },
   "file_extension": ".py",
   "mimetype": "text/x-python",
   "name": "python",
   "nbconvert_exporter": "python",
   "pygments_lexer": "ipython3",
   "version": "3.11.5"
  },
  "orig_nbformat": 4
 },
 "nbformat": 4,
 "nbformat_minor": 2
}
