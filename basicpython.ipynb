{
 "cells": [
  {
   "cell_type": "code",
   "execution_count": 3,
   "metadata": {},
   "outputs": [
    {
     "name": "stdout",
     "output_type": "stream",
     "text": [
      "hey\"i am sarnalika\"\n"
     ]
    }
   ],
   "source": [
    "print(\"hey\\\"i am sarnalika\\\"\")"
   ]
  },
  {
   "cell_type": "code",
   "execution_count": 1,
   "metadata": {},
   "outputs": [
    {
     "name": "stdout",
     "output_type": "stream",
     "text": [
      "\n",
      "f=open(\"task.txt\",\"r\")\n",
      "\n"
     ]
    }
   ],
   "source": [
    "f=open(\"task.txt\",\"w\")\n",
    "print(f.read())\n"
   ]
  },
  {
   "cell_type": "code",
   "execution_count": 6,
   "metadata": {},
   "outputs": [],
   "source": [
    "name=input(\"My name is:\")\n",
    "email=input(\"mail id:\")\n",
    "phone=input(\"number:\")\n",
    "def savedetails(name,email,phone):\n",
    "    filename=open(name + \".txt\",\"w\")\n",
    "    filename.write(f\"My name  is sarnalika and my email is {email} and number is {phone}\")\n",
    "                   \n",
    "          \n",
    "    filename.close()\n",
    "\n",
    "savedetails(\"task\",\"emqai\",\"12345678\")\n",
    "\n",
    "    "
   ]
  },
  {
   "cell_type": "code",
   "execution_count": 6,
   "metadata": {},
   "outputs": [
    {
     "name": "stdout",
     "output_type": "stream",
     "text": [
      "0\n",
      "1\n",
      "2\n",
      "3\n",
      "4\n",
      "5\n",
      "6\n"
     ]
    }
   ],
   "source": [
    "a=0\n",
    "while a<7:\n",
    "    res=a*a\n",
    "    print(a)\n",
    "    #print(res)\n",
    "   # print(res*a)#print(res) for square #print(res*a) for cube of the elements\n",
    "    a=a+1\n",
    "\n",
    "    "
   ]
  },
  {
   "cell_type": "code",
   "execution_count": 12,
   "metadata": {},
   "outputs": [
    {
     "name": "stdout",
     "output_type": "stream",
     "text": [
      "1\n",
      "2\n",
      "3\n",
      "4\n",
      "5\n",
      "6\n"
     ]
    }
   ],
   "source": [
    "for i in range (1,10,1):\n",
    "    if i==7:\n",
    "        break\n",
    "    print(i)\n"
   ]
  },
  {
   "cell_type": "code",
   "execution_count": 32,
   "metadata": {},
   "outputs": [
    {
     "name": "stdout",
     "output_type": "stream",
     "text": [
      "1\n",
      "2\n",
      "3\n",
      "4\n",
      "5\n",
      "6\n",
      "7\n",
      "8\n",
      "9\n"
     ]
    }
   ],
   "source": [
    "for i in range (1,10,1):\n",
    "    if i== 2:\n",
    "        continue\n",
    "    print(i)\n"
   ]
  },
  {
   "cell_type": "code",
   "execution_count": 34,
   "metadata": {},
   "outputs": [
    {
     "name": "stdout",
     "output_type": "stream",
     "text": [
      "['ABC', 'ABC', 'CDF', 'ABC', 'EFD', 'BCD', 'NBG']\n",
      "{'NBG', 'EFD', 'ABC', 'BCD', 'CDF'}\n",
      "['NBG', 'EFD', 'ABC', 'BCD', 'CDF']\n",
      "<class 'list'>\n",
      "<class 'set'>\n"
     ]
    }
   ],
   "source": [
    "listex =[\"ABC\",\"ABC\",\"CDF\",\"ABC\",\"EFD\",\"BCD\",\"NBG\"]\n",
    "setex =set(listex)\n",
    "back=list(setex)\n",
    "print(listex)\n",
    "print(setex)\n",
    "print(back)\n",
    "print(type(listex))\n",
    "print(type(setex))\n",
    "\n",
    "\n",
    "\n",
    "\n"
   ]
  },
  {
   "cell_type": "markdown",
   "metadata": {},
   "source": [
    "CREATE A LIST OF 10 NAMES THAT ARE RANDOM AND REPEATING FROM USER IDENTIFY THE UNIQUE ITEMS AND THEIR COUNT\n",
    "\n"
   ]
  },
  {
   "cell_type": "markdown",
   "metadata": {},
   "source": [
    "\n"
   ]
  },
  {
   "cell_type": "code",
   "execution_count": 35,
   "metadata": {},
   "outputs": [
    {
     "name": "stdout",
     "output_type": "stream",
     "text": [
      "['sarnalika']\n"
     ]
    }
   ],
   "source": [
    "names =[]\n",
    "for i in range (1,10,1):\n",
    "    name=input(\"enter the name\")\n",
    "    name=name.strip()\n",
    "    name=name.upper()\n",
    "    names.append(name)\n",
    "    #print(names)\n",
    "    unique_names=set(names)\n",
    "    #print(unique_names)\n",
    "    for search in name:\n",
    "        \n",
    "\n",
    "\n",
    "\n",
    "\n"
   ]
  },
  {
   "cell_type": "markdown",
   "metadata": {},
   "source": []
  },
  {
   "cell_type": "markdown",
   "metadata": {},
   "source": []
  },
  {
   "cell_type": "code",
   "execution_count": 2,
   "metadata": {},
   "outputs": [],
   "source": [
    "my_dict={\n",
    "\"Name\": \"Sarnalika Paul\",\n",
    "\"phone\":7278848743,\n",
    "\"email\":\"paulsarnalika@gmail.com\",\n",
    "}\n",
    "\n"
   ]
  },
  {
   "cell_type": "markdown",
   "metadata": {},
   "source": []
  },
  {
   "cell_type": "code",
   "execution_count": 5,
   "metadata": {},
   "outputs": [
    {
     "name": "stdout",
     "output_type": "stream",
     "text": [
      "Sarnalika Paul\n"
     ]
    }
   ],
   "source": [
    "\n",
    "print(my_dict[\"Name\"])"
   ]
  },
  {
   "cell_type": "markdown",
   "metadata": {},
   "source": []
  },
  {
   "cell_type": "code",
   "execution_count": 8,
   "metadata": {},
   "outputs": [
    {
     "name": "stdout",
     "output_type": "stream",
     "text": [
      "{'Name': 'Sarnalika', 'phone': 7278848743, 'email': 'paulsarnalika@gmail.com', 'address': 'Christ University'}\n"
     ]
    }
   ],
   "source": [
    "#my_dict[\"Name\"]=\"Sarnalika\"\n",
    "print(my_dict)"
   ]
  },
  {
   "cell_type": "code",
   "execution_count": 7,
   "metadata": {},
   "outputs": [
    {
     "name": "stdout",
     "output_type": "stream",
     "text": [
      "{'Name': 'Sarnalika', 'phone': 7278848743, 'email': 'paulsarnalika@gmail.com', 'address': 'Christ University'}\n"
     ]
    }
   ],
   "source": [
    "my_dict[\"address\"] = \"Christ University\"\n",
    "print(my_dict)"
   ]
  },
  {
   "cell_type": "code",
   "execution_count": 9,
   "metadata": {},
   "outputs": [
    {
     "data": {
      "text/plain": [
       "dict_values(['Sarnalika', 7278848743, 'paulsarnalika@gmail.com', 'Christ University'])"
      ]
     },
     "execution_count": 9,
     "metadata": {},
     "output_type": "execute_result"
    }
   ],
   "source": [
    "my_dict.values()"
   ]
  },
  {
   "cell_type": "code",
   "execution_count": 10,
   "metadata": {},
   "outputs": [
    {
     "name": "stdout",
     "output_type": "stream",
     "text": [
      "dict_keys(['Name', 'phone', 'email', 'address'])\n",
      "Name\n",
      "phone\n",
      "email\n",
      "address\n"
     ]
    }
   ],
   "source": [
    "print(my_dict.keys())\n",
    "for key in my_dict.keys():\n",
    "    print(key)"
   ]
  },
  {
   "cell_type": "code",
   "execution_count": 17,
   "metadata": {},
   "outputs": [
    {
     "name": "stdout",
     "output_type": "stream",
     "text": [
      "sarnalika\n",
      "debamala\n",
      "ananya\n",
      "ananya\n"
     ]
    }
   ],
   "source": [
    "students={\n",
    "    \"Names\":[\"sarnalika\",\"debamala\",\"ananya\"],\n",
    "    \"Rollnumbers\":[1,2,3],\n",
    "}\n",
    "for name in students[\"Names\"]:\n",
    "    print(name)\n",
    "print(students[\"Names\"][2])"
   ]
  },
  {
   "cell_type": "code",
   "execution_count": 22,
   "metadata": {},
   "outputs": [],
   "source": [
    "mscdsb=[\n",
    "\n",
    "{\n",
    "    \"rollnumber\":23220001,\n",
    "    \"Name\":\"Adith\",\n",
    "    \"Email\":\"adith.christ.in\",\n",
    "    \"Phone\":123456\n",
    "\n",
    "},\n",
    "{\n",
    "    \"rollnumber\":23220002,\n",
    "    \"Name\":\"Abhay\",\n",
    "    \"Email\":\"abhay.christ.in\",\n",
    "    \"Phone\":123457\n",
    "\n",
    "},\n",
    "{\n",
    "    \"rollnumber\":23220003,\n",
    "    \"Name\":\"Adarsh\",\n",
    "    \"Email\":\"adarsh.christ.in\",\n",
    "    \"phone\":123458\n",
    "}\n",
    "]"
   ]
  },
  {
   "cell_type": "code",
   "execution_count": null,
   "metadata": {},
   "outputs": [],
   "source": []
  },
  {
   "cell_type": "code",
   "execution_count": 25,
   "metadata": {},
   "outputs": [
    {
     "name": "stdout",
     "output_type": "stream",
     "text": [
      "{'rollnumber': 23220001, 'Name': 'Adith', 'Email': 'adith.christ.in', 'Phone': 123456}\n",
      "23220001\t\n",
      "Adith\t\n",
      "adith.christ.in\t\n",
      "123456\t\n",
      "{'rollnumber': 23220002, 'Name': 'Abhay', 'Email': 'abhay.christ.in', 'Phone': 123457}\n",
      "23220002\t\n",
      "Abhay\t\n",
      "abhay.christ.in\t\n",
      "123457\t\n",
      "{'rollnumber': 23220003, 'Name': 'Adarsh', 'Email': 'adarsh.christ.in', 'phone': 123458}\n",
      "23220003\t\n",
      "Adarsh\t\n",
      "adarsh.christ.in\t\n",
      "123458\t\n"
     ]
    }
   ],
   "source": [
    "for student in mscdsb:\n",
    "    print(student)\n",
    "    for key in student.keys():\n",
    "        print(student[key],end=\"\\t\")\n",
    "        print()"
   ]
  },
  {
   "cell_type": "code",
   "execution_count": 3,
   "metadata": {},
   "outputs": [
    {
     "ename": "IndentationError",
     "evalue": "unindent does not match any outer indentation level (<tokenize>, line 46)",
     "output_type": "error",
     "traceback": [
      "\u001b[1;36m  File \u001b[1;32m<tokenize>:46\u001b[1;36m\u001b[0m\n\u001b[1;33m    elif choice==3:\u001b[0m\n\u001b[1;37m    ^\u001b[0m\n\u001b[1;31mIndentationError\u001b[0m\u001b[1;31m:\u001b[0m unindent does not match any outer indentation level\n"
     ]
    }
   ],
   "source": [
    "listNames=[]#empty list to store the names\n",
    "#store a name to list\n",
    "def storeName(name):\n",
    "    name=name.strip().title()\n",
    "    if name in listNames:\n",
    "        return False\n",
    "    else:\n",
    "        listNames.append(name)\n",
    "        return True\n",
    "    #list all names\n",
    "    def listNames():\n",
    "        print(\"_\"*30)\n",
    "        #function to search for a name\n",
    "        def searchNames(name):\n",
    "            name=name.strip().title()\n",
    "            flag=False\n",
    "            for item in listnames:\n",
    "                if name== item:\n",
    "                    flag=True\n",
    "                    print(\"name is present in the list\")\n",
    "                    break\n",
    "                if flag = True:\n",
    "                   print (\"name exists in the list\")\n",
    "                else:\n",
    "                    print()\n",
    "\n",
    "\n",
    "\n",
    "                \n",
    "    \n",
    "    while True:\n",
    "    print(\"Menu options\")\n",
    "    print(\"*\"*30)\n",
    "    print(\"1.enter a name\")\n",
    "    print(\"2.search a name\")\n",
    "    print(\"3.list all names\")\n",
    "    print(\"exit\")\n",
    "    choice=int(input(\"enter your choice\"))\n",
    "    if choice==1:\n",
    "                userinp=input(\"enter a name\")\n",
    "                retval=storeName(userinp)\n",
    "                if retvalue==True:\n",
    "                 print(\"name added successfully\")\n",
    "                else:\n",
    "                  print(\"name exists in the list\")\n",
    "         elif choice==3:\n",
    "                printNames()\n",
    "         elif choice==4\n",
    "                    choice==4:\n",
    "                    exit()\n",
    "                    else:\n",
    "                    print(\"Invalid option,please choose correct one\")\n",
    "                    \n",
    "        \n",
    "                    \n",
    "                \n",
    "\n",
    "\n",
    "                \n",
    "    "
   ]
  },
  {
   "cell_type": "code",
   "execution_count": null,
   "metadata": {},
   "outputs": [],
   "source": []
  },
  {
   "cell_type": "code",
   "execution_count": 10,
   "metadata": {},
   "outputs": [
    {
     "name": "stdout",
     "output_type": "stream",
     "text": [
      "totalcost\n",
      "item: rice\n",
      "quantity: 5\n",
      "total: 150\n",
      "totalcost\n",
      "item: dal\n",
      "quantity: 4\n",
      "total: 160\n"
     ]
    }
   ],
   "source": [
    "class resturant:\n",
    "    def __init__(self,itemname,qty):\n",
    "        self.itemname =itemname\n",
    "        self.qty =qty\n",
    "        self.menuitems ={\n",
    "            \"rice\":30,\n",
    "            \"chicken\":200,\n",
    "            \"dal\":40,\n",
    "            \"roti\":10\n",
    "        }\n",
    "    def totalcost(self):\n",
    "        print(\"totalcost\")\n",
    "        print(\"item:\",self.itemname)\n",
    "        print(\"quantity:\",self.qty)\n",
    "        total = self.qty * self.menuitems[self.itemname]\n",
    "        print(\"total:\",total)\n",
    "\n",
    "    \n",
    "    \n",
    "obj=resturant(\"rice\",5)\n",
    "obj1=resturant(\"dal\",4)\n",
    "obj.totalcost()\n",
    "obj1.totalcost()\n",
    "\n",
    "    "
   ]
  },
  {
   "cell_type": "code",
   "execution_count": null,
   "metadata": {},
   "outputs": [],
   "source": [
    "class expensetracker:\n",
    "    def _init__(self):\n",
    "        self.expensedict ={\n",
    "            \"income\":[],\n",
    "            \"expense\":[],\n",
    "        }\n",
    "        def store_tracsactions(self,type,amt,category,date,details):\n",
    "            trans ={\n",
    "                \"amount\":amt,\n",
    "                \"category\":category,\n",
    "                \"date\":date,\n",
    "                \"details\":deatils,\n",
    "            }\n",
    "        if type==\"income\":\n",
    "            self.expensedict['income'].append(trans)\n",
    "        else:\n",
    "            self.expensedict['expense'].append(trans)\n",
    "\n",
    "        pass\n",
    "    def store_transactions(self):\n",
    "        pass\n",
    "    def view_transaction(self):\n",
    "        pass\n",
    "    def calculate_transaction(self):\n",
    "        pass\n",
    "    "
   ]
  },
  {
   "cell_type": "code",
   "execution_count": 12,
   "metadata": {},
   "outputs": [
    {
     "name": "stdout",
     "output_type": "stream",
     "text": [
      "...MY EXPENSE TRACKER...\n",
      "1. Record Income\n",
      "2. Record Expense\n",
      "3. View Records\n",
      "4. View My Spendings\n",
      "5. Exit\n",
      "In valid choice\n",
      "...MY EXPENSE TRACKER...\n",
      "1. Record Income\n",
      "2. Record Expense\n",
      "3. View Records\n",
      "4. View My Spendings\n",
      "5. Exit\n"
     ]
    }
   ],
   "source": [
    "class expenseTracker:\n",
    "    def __init__(self):\n",
    "        self.expenseDict = {\n",
    "            \"income\": [],\n",
    "            \"expense\": [],\n",
    "        }\n",
    "\n",
    "    def store_transactions(self, type, amt, category, date, details):\n",
    "        trans = {\n",
    "            \"Amount\": amt,\n",
    "            \"Category\": category,\n",
    "            \"Date\": date,\n",
    "            \"Details\": details,\n",
    "        }\n",
    "        if type == \"income\":\n",
    "            self.expenseDict['income'].append(trans)\n",
    "        else:\n",
    "            self.expenseDict['expense'].append(trans)\n",
    "\n",
    "    def view_transactions(self):\n",
    "        print(\"Your Income:\")\n",
    "        for item in self.expenseDict['income']:\n",
    "            print(item)\n",
    "        print(\"Your Expenses:\")\n",
    "        for item in self.expenseDict['expense']:\n",
    "            print(item)\n",
    "\n",
    "    def calculate_transactions(self):\n",
    "        total_income = 0\n",
    "        for item in self.expenseDict['income']:\n",
    "            total_income += item[\"Amount\"]\n",
    "        print(\"Total Income\\t:\\t\", total_income)\n",
    "\n",
    "        total_expense = 0\n",
    "        for item in self.expenseDict['expense']:\n",
    "            total_expense += item[\"Amount\"]\n",
    "        print(\"Total Expenses\\t:\\t\", total_expense)\n",
    "\n",
    "# define a menu that will let users to enter expense, view expenses\n",
    "# or income, get totals in each and exit from the program\n",
    "\n",
    "\n",
    "def collectInput():\n",
    "    amt = int(input(\"Enter the amout: \"))\n",
    "    category = input(\"Enter Category: \")\n",
    "    date = input(\"Enter Date (DD/MM/YYYY): \")\n",
    "    details = input(\"Enter description: \")\n",
    "    return amt, category, date, details\n",
    "\n",
    "\n",
    "myexpense = expenseTracker()\n",
    "\n",
    "while True:\n",
    "    print(\"...MY EXPENSE TRACKER...\")\n",
    "    print(\"1. Record Income\")\n",
    "    print(\"2. Record Expense\")\n",
    "    print(\"3. View Records\")\n",
    "    print(\"4. View My Spendings\")\n",
    "    print(\"5. Exit\")\n",
    "\n",
    "    choice = int(input(\"Enter your choice: \").strip())\n",
    "\n",
    "    if choice == 1:\n",
    "        print(\"Enter the details of income\")\n",
    "        amt, category, date, details = collectInput()\n",
    "        myexpense.store_transactions(\"income\", amt, category, date, details)\n",
    "    elif choice == 2:\n",
    "        print(\"Enter the details of expense\")\n",
    "        amt, category, date, details = collectInput()\n",
    "        myexpense.store_transactions(\"expense\", amt, category, date, details)\n",
    "    elif choice == 3:\n",
    "        myexpense.view_transactions()\n",
    "    elif choice == 4:\n",
    "        myexpense.calculate_transactions()\n",
    "    elif choice == 5:\n",
    "        exit()\n",
    "    else:\n",
    "        print(\"In valid choice\")\n"
   ]
  },
  {
   "cell_type": "code",
   "execution_count": null,
   "metadata": {},
   "outputs": [],
   "source": []
  }
 ],
 "metadata": {
  "kernelspec": {
   "display_name": "Python 3",
   "language": "python",
   "name": "python3"
  },
  "language_info": {
   "codemirror_mode": {
    "name": "ipython",
    "version": 3
   },
   "file_extension": ".py",
   "mimetype": "text/x-python",
   "name": "python",
   "nbconvert_exporter": "python",
   "pygments_lexer": "ipython3",
   "version": "3.11.5"
  },
  "orig_nbformat": 4
 },
 "nbformat": 4,
 "nbformat_minor": 2
}
