{
 "cells": [
  {
   "cell_type": "code",
   "execution_count": 1,
   "metadata": {},
   "outputs": [
    {
     "name": "stdout",
     "output_type": "stream",
     "text": [
      "1\n",
      "2\n",
      "3\n",
      "4\n",
      "5\n",
      "6\n",
      "7\n",
      "8\n",
      "9\n",
      "10\n"
     ]
    }
   ],
   "source": [
    "# Initialize a variable to start from 1\n",
    "num = 1\n",
    "\n",
    "# Use a while loop to print numbers from 1 to 10\n",
    "while num <= 10:\n",
    "    print(num)\n",
    "    num += 1  # Increment the value of num by 1 in each iteration\n"
   ]
  },
  {
   "cell_type": "code",
   "execution_count": 2,
   "metadata": {},
   "outputs": [
    {
     "name": "stdout",
     "output_type": "stream",
     "text": [
      "The sum of numbers from 1 to 100 is: 5050\n"
     ]
    }
   ],
   "source": [
    "# Initialize a variable to store the sum\n",
    "sum_of_numbers = 0\n",
    "\n",
    "# Use a for loop to iterate from 1 to 100 (inclusive)\n",
    "for num in range(1, 101):\n",
    "    sum_of_numbers += num  # Add the current number to the sum\n",
    "\n",
    "# Print the sum\n",
    "print(\"The sum of numbers from 1 to 100 is:\", sum_of_numbers)\n"
   ]
  },
  {
   "cell_type": "code",
   "execution_count": 3,
   "metadata": {},
   "outputs": [
    {
     "name": "stdout",
     "output_type": "stream",
     "text": [
      "Original List: [1, 2, 3, 4, 5, 6, 7, 8, 9, 10]\n",
      "Even Numbers: [2, 4, 6, 8, 10]\n"
     ]
    }
   ],
   "source": [
    "# Function to filter even numbers from a list\n",
    "def filter_even_numbers(input_list):\n",
    "    # Use a list comprehension to create a new list containing only even numbers\n",
    "    even_numbers = [num for num in input_list if num % 2 == 0]\n",
    "    return even_numbers\n",
    "\n",
    "# Input list of numbers (you can modify this list as needed)\n",
    "input_list = [1, 2, 3, 4, 5, 6, 7, 8, 9, 10]\n",
    "\n",
    "# Call the function to filter even numbers\n",
    "result = filter_even_numbers(input_list)\n",
    "\n",
    "# Print the result\n",
    "print(\"Original List:\", input_list)\n",
    "print(\"Even Numbers:\", result)\n"
   ]
  },
  {
   "cell_type": "code",
   "execution_count": null,
   "metadata": {},
   "outputs": [],
   "source": [
    "#create a menu driven program thatcollects student de"
   ]
  },
  {
   "cell_type": "code",
   "execution_count": 1,
   "metadata": {},
   "outputs": [
    {
     "name": "stdout",
     "output_type": "stream",
     "text": [
      "Menu Options\n",
      "1. Enter Student Info\n",
      "2. List Students\n",
      "3. Exit\n",
      "Invalid Choice\n",
      "Menu Options\n",
      "1. Enter Student Info\n",
      "2. List Students\n",
      "3. Exit\n",
      "Invalid Choice\n",
      "Menu Options\n",
      "1. Enter Student Info\n",
      "2. List Students\n",
      "3. Exit\n",
      "Invalid Choice\n",
      "Menu Options\n",
      "1. Enter Student Info\n",
      "2. List Students\n",
      "3. Exit\n",
      "Invalid Choice\n",
      "Menu Options\n",
      "1. Enter Student Info\n",
      "2. List Students\n",
      "3. Exit\n",
      "Invalid Choice\n",
      "Menu Options\n",
      "1. Enter Student Info\n",
      "2. List Students\n",
      "3. Exit\n",
      "Invalid Choice\n",
      "Menu Options\n",
      "1. Enter Student Info\n",
      "2. List Students\n",
      "3. Exit\n",
      "Invalid Choice\n",
      "Menu Options\n",
      "1. Enter Student Info\n",
      "2. List Students\n",
      "3. Exit\n",
      "Invalid Choice\n",
      "Menu Options\n",
      "1. Enter Student Info\n",
      "2. List Students\n",
      "3. Exit\n",
      "Invalid Choice\n",
      "Menu Options\n",
      "1. Enter Student Info\n",
      "2. List Students\n",
      "3. Exit\n"
     ]
    }
   ],
   "source": [
    "studentDict = {}\n",
    "\n",
    "def createStudent(name,regno,email,phone):\n",
    "    student = {\n",
    "        \"Name\": name,\n",
    "        \"Email\": email,\n",
    "        \"Phone\": phone\n",
    "    }\n",
    "\n",
    "    studentDict[regno] = student\n",
    "\n",
    "def colletStudentInfo():\n",
    "    name = input(\"Enter Student Name: \")\n",
    "    regno = input(\"Enter Student regno: \")\n",
    "    email = input(\"Enter Student Email: \")\n",
    "    phone = input(\"Enter Student Phone: \")\n",
    "    return name, regno, email, phone\n",
    "\n",
    "def printStudents():\n",
    "    print(\"Regno\\tName\\tEmail\\tPhone\")\n",
    "    for regno in studentDict.keys():\n",
    "        print(regno,end=\"\\t\")\n",
    "        for key in studentDict[regno]:\n",
    "            print(studentDict[regno][key],end='\\t')\n",
    "        print()\n",
    "\n",
    "while True:\n",
    "    print(\"Menu Options\")\n",
    "    print(\"1. Enter Student Info\")\n",
    "    print(\"2. List Students\")\n",
    "    print(\"3. Exit\")\n",
    "\n",
    "    choice = input(\"Enter the choice\").strip()\n",
    "    if choice == \"1\":\n",
    "        name, regno, email, phone = colletStudentInfo()\n",
    "        createStudent(name, regno, email, phone)\n",
    "    elif choice == \"2\":\n",
    "        printStudents()\n",
    "    elif choice == \"3\":\n",
    "        exit()\n",
    "    else:\n",
    "        print(\"Invalid Choice\")\n",
    "    "
   ]
  },
  {
   "cell_type": "code",
   "execution_count": null,
   "metadata": {},
   "outputs": [],
   "source": []
  }
 ],
 "metadata": {
  "kernelspec": {
   "display_name": "Python 3",
   "language": "python",
   "name": "python3"
  },
  "language_info": {
   "codemirror_mode": {
    "name": "ipython",
    "version": 3
   },
   "file_extension": ".py",
   "mimetype": "text/x-python",
   "name": "python",
   "nbconvert_exporter": "python",
   "pygments_lexer": "ipython3",
   "version": "3.11.5"
  },
  "orig_nbformat": 4
 },
 "nbformat": 4,
 "nbformat_minor": 2
}
