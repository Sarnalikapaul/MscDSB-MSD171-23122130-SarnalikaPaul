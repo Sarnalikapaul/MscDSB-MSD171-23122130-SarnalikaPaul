{
 "cells": [
  {
   "cell_type": "code",
   "execution_count": 1,
   "metadata": {},
   "outputs": [
    {
     "name": "stdout",
     "output_type": "stream",
     "text": [
      "Student Grades:\n",
      "Alice: 29\n",
      "Bob: 66\n",
      "Carol: 87\n"
     ]
    }
   ],
   "source": [
    "import random\n",
    "\n",
    "# Create a dictionary to store student grades\n",
    "student_grades = {}\n",
    "\n",
    "# Add grades for Alice, Bob, and Carol\n",
    "student_grades['Alice'] = random.randint(0, 100)  # Random grade between 0 and 100\n",
    "student_grades['Bob'] = random.randint(0, 100)\n",
    "student_grades['Carol'] = random.randint(0, 100)\n",
    "\n",
    "# Print the dictionary\n",
    "print(\"Student Grades:\")\n",
    "for student, grade in student_grades.items():\n",
    "    print(f\"{student}: {grade}\")\n"
   ]
  },
  {
   "cell_type": "code",
   "execution_count": null,
   "metadata": {},
   "outputs": [],
   "source": []
  }
 ],
 "metadata": {
  "kernelspec": {
   "display_name": "Python 3",
   "language": "python",
   "name": "python3"
  },
  "language_info": {
   "codemirror_mode": {
    "name": "ipython",
    "version": 3
   },
   "file_extension": ".py",
   "mimetype": "text/x-python",
   "name": "python",
   "nbconvert_exporter": "python",
   "pygments_lexer": "ipython3",
   "version": "3.11.5"
  },
  "orig_nbformat": 4
 },
 "nbformat": 4,
 "nbformat_minor": 2
}
