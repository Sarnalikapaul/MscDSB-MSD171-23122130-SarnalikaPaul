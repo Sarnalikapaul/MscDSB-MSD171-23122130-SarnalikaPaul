{
 "cells": [
  {
   "cell_type": "code",
   "execution_count": 6,
   "metadata": {},
   "outputs": [
    {
     "name": "stdout",
     "output_type": "stream",
     "text": [
      "Total count of vowels: 4\n",
      "Vowels and their counts:\n",
      "a: 3\n",
      "i: 1\n",
      "Percentage of vowels: 44.44%\n"
     ]
    }
   ],
   "source": [
    "# Function to count vowels in a string\n",
    "def count_vowels(string):\n",
    "    vowels = \"AEIOUaeiou\"\n",
    "    vowel_count = {}\n",
    "    total_vowels = 0\n",
    "\n",
    "    for char in string:\n",
    "        if char in vowels:\n",
    "            char_lower = char.lower()\n",
    "            vowel_count[char_lower] = vowel_count.get(char_lower, 0) + 1\n",
    "            total_vowels += 1\n",
    "\n",
    "    return vowel_count, total_vowels\n",
    "\n",
    "# Function to calculate percentage of vowels\n",
    "def calculate_percentage(total_vowels, total_characters):\n",
    "    return (total_vowels / total_characters) * 100\n",
    "\n",
    "# Main program\n",
    "user_input = input(\"Enter a string: \")\n",
    "\n",
    "# Remove spaces and calculate total characters\n",
    "user_input = user_input.replace(\" \", \"\")\n",
    "total_characters = len(user_input)\n",
    "\n",
    "vowel_count, total_vowels = count_vowels(user_input)\n",
    "\n",
    "print(\"Total count of vowels:\", total_vowels)\n",
    "\n",
    "print(\"Vowels and their counts:\")\n",
    "for vowel, count in vowel_count.items():\n",
    "    print(f\"{vowel}: {count}\")\n",
    "\n",
    "percentage = calculate_percentage(total_vowels, total_characters)\n",
    "print(f\"Percentage of vowels: {percentage:.2f}%\")\n"
   ]
  },
  {
   "cell_type": "code",
   "execution_count": 17,
   "metadata": {},
   "outputs": [
    {
     "name": "stdout",
     "output_type": "stream",
     "text": [
      "Total count of vowels: 4\n",
      "Vowels and their counts:\n",
      "A: 0\n",
      "E: 0\n",
      "I: 0\n",
      "O: 0\n",
      "U: 0\n",
      "a: 3\n",
      "e: 0\n",
      "i: 1\n",
      "o: 0\n",
      "u: 0\n",
      "Percentage of vowels: 44.44%\n"
     ]
    }
   ],
   "source": [
    "# Function to count vowels in a string\n",
    "def count_vowels(string):\n",
    "    vowels = \"AEIOUaeiou\"\n",
    "    vowel_count =  {'A': 0, 'E': 0, 'I': 0, 'O': 0, 'U': 0, 'a': 0, 'e': 0, 'i': 0, 'o': 0, 'u': 0}\n",
    "\n",
    "    for char in string:\n",
    "        if char in vowels:\n",
    "            char_lower = char.lower()\n",
    "            vowel_count[char_lower] = vowel_count.get(char_lower, 0) + 1\n",
    "\n",
    "    return vowel_count\n",
    "\n",
    "# Main program\n",
    "user_input = input(\"Enter a string: \")\n",
    "\n",
    "vowel_count = count_vowels(user_input)\n",
    "\n",
    "print(\"Total count of vowels:\", sum(vowel_count.values()))\n",
    "\n",
    "print(\"Vowels and their counts:\")\n",
    "for vowel, count in vowel_count.items():\n",
    "    print(f\"{vowel}: {count}\")\n",
    "    percentage = calculate_percentage(total_vowels, total_characters)\n",
    "print(f\"Percentage of vowels: {percentage:.2f}%\")\n",
    "\n"
   ]
  },
  {
   "cell_type": "code",
   "execution_count": null,
   "metadata": {},
   "outputs": [],
   "source": []
  }
 ],
 "metadata": {
  "kernelspec": {
   "display_name": "Python 3",
   "language": "python",
   "name": "python3"
  },
  "language_info": {
   "codemirror_mode": {
    "name": "ipython",
    "version": 3
   },
   "file_extension": ".py",
   "mimetype": "text/x-python",
   "name": "python",
   "nbconvert_exporter": "python",
   "pygments_lexer": "ipython3",
   "version": "3.11.5"
  },
  "orig_nbformat": 4
 },
 "nbformat": 4,
 "nbformat_minor": 2
}
