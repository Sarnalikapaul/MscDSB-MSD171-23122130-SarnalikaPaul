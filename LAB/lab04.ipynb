{
 "cells": [
  {
   "cell_type": "code",
   "execution_count": 1,
   "metadata": {},
   "outputs": [
    {
     "name": "stdout",
     "output_type": "stream",
     "text": [
      "1. Create Order Data          2.  get Insight\n",
      "3. exit\n"
     ]
    },
    {
     "ename": "FileNotFoundError",
     "evalue": "[Errno 2] No such file or directory: 'total_order.txt'",
     "output_type": "error",
     "traceback": [
      "\u001b[1;31m---------------------------------------------------------------------------\u001b[0m",
      "\u001b[1;31mFileNotFoundError\u001b[0m                         Traceback (most recent call last)",
      "Cell \u001b[1;32mIn[1], line 68\u001b[0m\n\u001b[0;32m     65\u001b[0m         \u001b[39mexcept\u001b[39;00m \u001b[39mValueError\u001b[39;00m:\n\u001b[0;32m     66\u001b[0m             \u001b[39mprint\u001b[39m(\u001b[39m\"\u001b[39m\u001b[39mEnter The Value Integer\u001b[39m\u001b[39m\"\u001b[39m)\n\u001b[1;32m---> 68\u001b[0m main()\n",
      "Cell \u001b[1;32mIn[1], line 57\u001b[0m, in \u001b[0;36mmain\u001b[1;34m()\u001b[0m\n\u001b[0;32m     55\u001b[0m     guest \u001b[39m=\u001b[39m \u001b[39mint\u001b[39m(\u001b[39minput\u001b[39m(\u001b[39m\"\u001b[39m\u001b[39mTotal Guest: \u001b[39m\u001b[39m\"\u001b[39m))\n\u001b[0;32m     56\u001b[0m     date \u001b[39m=\u001b[39m \u001b[39minput\u001b[39m(\u001b[39m\"\u001b[39m\u001b[39mDate of the order: \u001b[39m\u001b[39m\"\u001b[39m)\n\u001b[1;32m---> 57\u001b[0m     to_order(name, price, phone_number, qty, guest, date, \u001b[39m\"\u001b[39;49m\u001b[39morder\u001b[39;49m\u001b[39m\"\u001b[39;49m)\n\u001b[0;32m     58\u001b[0m \u001b[39melif\u001b[39;00m user_choice \u001b[39m==\u001b[39m \u001b[39m2\u001b[39m:\n\u001b[0;32m     59\u001b[0m     get_insight(\u001b[39m\"\u001b[39m\u001b[39mtotal_order\u001b[39m\u001b[39m\"\u001b[39m, \u001b[39m\"\u001b[39m\u001b[39mtotal_price\u001b[39m\u001b[39m\"\u001b[39m)\n",
      "Cell \u001b[1;32mIn[1], line 9\u001b[0m, in \u001b[0;36mto_order\u001b[1;34m(name, price, phone_number, qty, total_guest, date, file_name)\u001b[0m\n\u001b[0;32m      8\u001b[0m \u001b[39mdef\u001b[39;00m \u001b[39mto_order\u001b[39m(name, price, phone_number, qty, total_guest, date, file_name):\n\u001b[1;32m----> 9\u001b[0m     \u001b[39mwith\u001b[39;00m \u001b[39mopen\u001b[39;49m(\u001b[39m\"\u001b[39;49m\u001b[39mtotal_order.txt\u001b[39;49m\u001b[39m\"\u001b[39;49m, \u001b[39m\"\u001b[39;49m\u001b[39mr\u001b[39;49m\u001b[39m\"\u001b[39;49m) \u001b[39mas\u001b[39;00m total_orders:\n\u001b[0;32m     10\u001b[0m         total_order \u001b[39m=\u001b[39m \u001b[39mint\u001b[39m(total_orders\u001b[39m.\u001b[39mread())\n\u001b[0;32m     12\u001b[0m     \u001b[39mwith\u001b[39;00m \u001b[39mopen\u001b[39m(\u001b[39m\"\u001b[39m\u001b[39mtotal_price.txt\u001b[39m\u001b[39m\"\u001b[39m, \u001b[39m\"\u001b[39m\u001b[39mr\u001b[39m\u001b[39m\"\u001b[39m) \u001b[39mas\u001b[39;00m total_prices:\n",
      "File \u001b[1;32m~\\AppData\\Roaming\\Python\\Python311\\site-packages\\IPython\\core\\interactiveshell.py:284\u001b[0m, in \u001b[0;36m_modified_open\u001b[1;34m(file, *args, **kwargs)\u001b[0m\n\u001b[0;32m    277\u001b[0m \u001b[39mif\u001b[39;00m file \u001b[39min\u001b[39;00m {\u001b[39m0\u001b[39m, \u001b[39m1\u001b[39m, \u001b[39m2\u001b[39m}:\n\u001b[0;32m    278\u001b[0m     \u001b[39mraise\u001b[39;00m \u001b[39mValueError\u001b[39;00m(\n\u001b[0;32m    279\u001b[0m         \u001b[39mf\u001b[39m\u001b[39m\"\u001b[39m\u001b[39mIPython won\u001b[39m\u001b[39m'\u001b[39m\u001b[39mt let you open fd=\u001b[39m\u001b[39m{\u001b[39;00mfile\u001b[39m}\u001b[39;00m\u001b[39m by default \u001b[39m\u001b[39m\"\u001b[39m\n\u001b[0;32m    280\u001b[0m         \u001b[39m\"\u001b[39m\u001b[39mas it is likely to crash IPython. If you know what you are doing, \u001b[39m\u001b[39m\"\u001b[39m\n\u001b[0;32m    281\u001b[0m         \u001b[39m\"\u001b[39m\u001b[39myou can use builtins\u001b[39m\u001b[39m'\u001b[39m\u001b[39m open.\u001b[39m\u001b[39m\"\u001b[39m\n\u001b[0;32m    282\u001b[0m     )\n\u001b[1;32m--> 284\u001b[0m \u001b[39mreturn\u001b[39;00m io_open(file, \u001b[39m*\u001b[39;49margs, \u001b[39m*\u001b[39;49m\u001b[39m*\u001b[39;49mkwargs)\n",
      "\u001b[1;31mFileNotFoundError\u001b[0m: [Errno 2] No such file or directory: 'total_order.txt'"
     ]
    }
   ],
   "source": [
    "\n",
    "\n",
    "\n",
    "\n",
    "def get_insight(file_name, second_file):\n",
    "    with open(file_name + \".txt\", \"r\") as order_file:\n",
    "        print(f\"Total Order Till Date: {order_file.read()}\")\n",
    "    with open(second_file + \".txt\", \"r\") as price_file:\n",
    "        print(f\"Total Price Till Date: {price_file.read()}\")\n",
    "\n",
    "\n",
    "def to_order(name, price, phone_number, qty, total_guest, date, file_name):\n",
    "    with open(\"total_order.txt\", \"r\") as total_orders:\n",
    "        total_order = int(total_orders.read())\n",
    "\n",
    "    with open(\"total_price.txt\", \"r\") as total_prices:\n",
    "        total_price = float(total_prices.read())\n",
    "\n",
    "    total_order += 1\n",
    "    total_price_order = price * qty\n",
    "\n",
    "    total_price += total_price_order\n",
    "\n",
    "    with open(\"total_order.txt\", \"w\") as order:\n",
    "        order.write(str(total_order))\n",
    "\n",
    "    with open(\"total_price.txt\", \"w\") as total_prices:\n",
    "        total_prices.write(str(total_price))\n",
    "\n",
    "    with open(file_name + \".txt\", \"a+\") as file:\n",
    "        total_order = 0\n",
    "\n",
    "        file.write(f\"Total Order Till Date: {total_order}\\n\")\n",
    "        file.write(f\"Total Price from Orders to Date: {total_price}\\n\")\n",
    "        file.write(\"---------------------------------\\n\")\n",
    "        file.write(f\"Name: {name}\\n\")\n",
    "        file.write(f\"Phone Number: {phone_number}\\n\")\n",
    "        file.write(f\"Food Price: {price}\\n\")\n",
    "        file.write(f\"Total qty: {qty}\\n\")\n",
    "        file.write(f\"Total Guest: {total_guest}\\n\")\n",
    "        file.write(f\"Date: {date}\\n\")\n",
    "        file.write(f\"Total price For This Order: {total_price_order}\\n\")\n",
    "        file.write(\"---------------------------------\\n\")\n",
    "        print(\"Your Order is Created Successfully\")\n",
    "\n",
    "\n",
    "def main():\n",
    "    print(\"1. Create Order Data          2.  get Insight\")\n",
    "    print(\"3. exit\")\n",
    "    while True:\n",
    "        try:\n",
    "            user_choice = int(input(\"Enter Your Choice (1-2): \"))\n",
    "\n",
    "            if user_choice == 1:\n",
    "                name = input(\"Customer Name: \")\n",
    "                price = float(input(\"Food Price: \"))\n",
    "                phone_number = int(input(\"Customer Phone Number: \"))\n",
    "                qty = int(input(\"Quantity: \"))\n",
    "                guest = int(input(\"Total Guest: \"))\n",
    "                date = input(\"Date of the order: \")\n",
    "                to_order(name, price, phone_number, qty, guest, date, \"order\")\n",
    "            elif user_choice == 2:\n",
    "                get_insight(\"total_order\", \"total_price\")\n",
    "            elif user_choice == 3:\n",
    "                print(\"Exitting.....\")\n",
    "                break\n",
    "            else:\n",
    "                print(\"Invalid choice.\")\n",
    "        except ValueError:\n",
    "            print(\"Enter The Value Integer\")\n",
    "\n",
    "main()\n",
    "\n"
   ]
  },
  {
   "cell_type": "code",
   "execution_count": null,
   "metadata": {},
   "outputs": [],
   "source": []
  }
 ],
 "metadata": {
  "kernelspec": {
   "display_name": "Python 3",
   "language": "python",
   "name": "python3"
  },
  "language_info": {
   "codemirror_mode": {
    "name": "ipython",
    "version": 3
   },
   "file_extension": ".py",
   "mimetype": "text/x-python",
   "name": "python",
   "nbconvert_exporter": "python",
   "pygments_lexer": "ipython3",
   "version": "3.11.5"
  },
  "orig_nbformat": 4
 },
 "nbformat": 4,
 "nbformat_minor": 2
}
