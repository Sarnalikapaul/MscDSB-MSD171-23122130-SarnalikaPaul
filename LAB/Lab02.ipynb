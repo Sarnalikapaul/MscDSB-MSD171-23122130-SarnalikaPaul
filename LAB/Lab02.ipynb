{
 "cells": [
  {
   "cell_type": "code",
   "execution_count": 2,
   "metadata": {},
   "outputs": [
    {
     "name": "stdout",
     "output_type": "stream",
     "text": [
      "34threefour\n"
     ]
    }
   ],
   "source": [
    "Values=[\"zero\",\"one\",\"two\",\"three\",\"four\",\"five\",\"six\",\"seven\",\"eight\",\"nine\"]\n",
    "user=int(input(\"enter the number\"))\n",
    "def to_help_alice(Values,user):\n",
    "    str_user=str(user)\n",
    "    new_value=\"\"\n",
    "    for i in str_user:\n",
    "        digit=int(i)\n",
    "        new_value=new_value + Values[digit]\n",
    "    return new_value\n",
    "result=to_help_alice(Values,user)\n",
    "print(f\"{user}{result}\")\n",
    "         "
   ]
  },
  {
   "cell_type": "code",
   "execution_count": null,
   "metadata": {},
   "outputs": [],
   "source": []
  }
 ],
 "metadata": {
  "kernelspec": {
   "display_name": "Python 3",
   "language": "python",
   "name": "python3"
  },
  "language_info": {
   "codemirror_mode": {
    "name": "ipython",
    "version": 3
   },
   "file_extension": ".py",
   "mimetype": "text/x-python",
   "name": "python",
   "nbconvert_exporter": "python",
   "pygments_lexer": "ipython3",
   "version": "3.11.5"
  },
  "orig_nbformat": 4
 },
 "nbformat": 4,
 "nbformat_minor": 2
}
