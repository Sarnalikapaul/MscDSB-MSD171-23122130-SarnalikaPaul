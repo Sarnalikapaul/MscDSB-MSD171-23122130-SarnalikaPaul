{
 "cells": [
  {
   "cell_type": "code",
   "execution_count": 18,
   "metadata": {},
   "outputs": [],
   "source": [
    "class petstore:\n",
    "    def __init__(self):\n",
    "        self.pets = {\n",
    "            \"dogs\": [],\n",
    "            \"cats\": [],\n",
    "            \"Rabbit\":[],\n",
    "            \"Parrot\" : []\n",
    "             \n",
    "              }\n",
    "    \n",
    "    def storePet(self,type,breedname,price,age):\n",
    "        temp ={\n",
    "            'type':type,\n",
    "            'breedname':breedname,\n",
    "            'price':price,\n",
    "            'age': age\n",
    "        }\n",
    "        self.pets[type].append(temp)\n",
    "        "
   ]
  },
  {
   "cell_type": "code",
   "execution_count": 19,
   "metadata": {},
   "outputs": [],
   "source": [
    "pets=petstore()\n",
    "pets.pets\n",
    "pets.storePet('dogs','abc',12000,3)\n",
    "pets.storePet('cats','def',14000,2)\n",
    "pets.storePet('Rabbit','ghi',15000,5)\n",
    "pets.storePet('Parrot','jkl',10000,1)"
   ]
  },
  {
   "cell_type": "code",
   "execution_count": 25,
   "metadata": {},
   "outputs": [
    {
     "name": "stdout",
     "output_type": "stream",
     "text": [
      "dogs\n",
      "[{'type': 'dogs', 'breedname': 'abc', 'price': 12000, 'age': 3}]\n",
      "abc\n",
      "cats\n",
      "[{'type': 'cats', 'breedname': 'def', 'price': 14000, 'age': 2}]\n",
      "def\n",
      "Rabbit\n",
      "[{'type': 'Rabbit', 'breedname': 'ghi', 'price': 15000, 'age': 5}]\n",
      "ghi\n",
      "Parrot\n",
      "[{'type': 'Parrot', 'breedname': 'jkl', 'price': 10000, 'age': 1}]\n",
      "jkl\n"
     ]
    }
   ],
   "source": [
    "for pet in pets.pets:\n",
    "    print(pet)\n",
    "    print(pets.pets[pet])\n",
    "    for item in pets.pets[pet]:\n",
    "       # print(item)#\n",
    "        print(item['breedname'])\n",
    "\n",
    "\n",
    "\n"
   ]
  },
  {
   "cell_type": "code",
   "execution_count": 1,
   "metadata": {},
   "outputs": [
    {
     "ename": "ModuleNotFoundError",
     "evalue": "No module named 'petStore'",
     "output_type": "error",
     "traceback": [
      "\u001b[1;31m---------------------------------------------------------------------------\u001b[0m",
      "\u001b[1;31mModuleNotFoundError\u001b[0m                       Traceback (most recent call last)",
      "Cell \u001b[1;32mIn[1], line 1\u001b[0m\n\u001b[1;32m----> 1\u001b[0m \u001b[39mimport\u001b[39;00m \u001b[39mpetStore\u001b[39;00m \u001b[39mas\u001b[39;00m \u001b[39mpt\u001b[39;00m\n\u001b[0;32m      2\u001b[0m \u001b[39mdef\u001b[39;00m \u001b[39muserLogin\u001b[39m(role):\n\u001b[0;32m      3\u001b[0m     \u001b[39mprint\u001b[39m(\u001b[39m\"\u001b[39m\u001b[39m\\n\u001b[39;00m\u001b[39mLogin Page\u001b[39m\u001b[39m\"\u001b[39m)\n",
      "\u001b[1;31mModuleNotFoundError\u001b[0m: No module named 'petStore'"
     ]
    }
   ],
   "source": [
    "import petmodule as pt\n",
    "def userLogin(role):\n",
    "    print(\"\\nLogin Page\")\n",
    "    print(\"_\"*15)\n",
    "    name=None\n",
    "    username=input(\"Username:\")\n",
    "    flag=False\n",
    "    if role==1:\n",
    "        for uname in open(\"e:\\Practice codes\\python_codes_Thamizhanbu\\Module Creation\\Credentials.csv\",\"r+\").readlines():\n",
    "            cred=uname.split(\",\")\n",
    "            if cred[1]==username:\n",
    "                flag=True\n",
    "                name=cred[3]\n",
    "        if flag==False:\n",
    "            print(\"Username is incorrect\")\n",
    "            userLogin(role)\n",
    "        else:\n",
    "            flag=False\n",
    "            password=input(\"Password:\")\n",
    "            for cred in open(\"Credentials.csv\",\"r+\").readlines():\n",
    "                passw=cred.split(\",\")\n",
    "                if passw[2]==password:\n",
    "                    flag=True\n",
    "                    name=passw[3]\n",
    "            if flag==False:\n",
    "                print(\"Password is incorrect\")\n",
    "                userLogin(role)\n",
    "            else:\n",
    "                return True\n",
    "def adminAction(adminObj):\n",
    "    action=int(input(\"Select your action \\n1.Store New Pet \\n2.Search for Pet \\n3.Sell a pet \\n4.List all pets \\n5.Exit\"))\n",
    "    if action==1:\n",
    "        id=int(input(\"Enter the pet ID:\"))\n",
    "        species=input(\"Enter the species of the pet:\")\n",
    "        comName=input(\"Enter the common name of the pet:\")\n",
    "        age=int(input(\"Enter the age of the pet:\"))\n",
    "        price=int(input(\"Enter the price of the pet\"))\n",
    "        adminObj.storePetDetails(id,species,comName,age,price)\n",
    "        adminAction(adminObj)\n",
    "    elif action==2:\n",
    "        adminObj.searchPet(input(\"Enter the common name of the pet:\"))\n",
    "        adminAction(adminObj)\n",
    "    elif action==3:\n",
    "        adminObj.sellPet(input(\"Enter the ID of the pet:\"))\n",
    "        adminAction(adminObj)\n",
    "    elif action==4:\n",
    "        adminObj.listAllPet()\n",
    "        adminAction(adminObj)\n",
    "    elif action==5:\n",
    "        return True\n",
    "    else:\n",
    "        print(\"Enter the right choice\")\n",
    "        adminAction(adminObj)\n",
    "def userAction():\n",
    "    print(\"Welcome to Pet Store\")\n",
    "    userObj=pt.petStore()\n",
    "    action=int(input(\"Please select your action \\n1.Search for a pet \\n2.List all pets \\n3.Exit\"))\n",
    "    if action==1:\n",
    "        userObj.searchPet(input(\"Enter the common name of the pet:\"))\n",
    "        userAction()\n",
    "    elif action==2:\n",
    "        userObj.listAllPet()\n",
    "        userAction()\n",
    "    elif action==3:\n",
    "        return True\n",
    "    else:\n",
    "        print(\"Select correct action\")\n",
    "        userAction()\n",
    "\n",
    "while(True):\n",
    "    userType=int(input(\"Select user type 1.Admin 2.Customer\"))\n",
    "    exit=False\n",
    "    if userType==1:\n",
    "        if userLogin(userType):\n",
    "            adminObj=pt.petStore()\n",
    "        exit=adminAction(adminObj)\n",
    "    elif userType==2:\n",
    "        exit=userAction()\n",
    "    if exit:\n",
    "        exit()\n",
    "    "
   ]
  },
  {
   "cell_type": "code",
   "execution_count": null,
   "metadata": {},
   "outputs": [],
   "source": []
  },
  {
   "cell_type": "code",
   "execution_count": null,
   "metadata": {},
   "outputs": [],
   "source": []
  }
 ],
 "metadata": {
  "kernelspec": {
   "display_name": "Python 3",
   "language": "python",
   "name": "python3"
  },
  "language_info": {
   "codemirror_mode": {
    "name": "ipython",
    "version": 3
   },
   "file_extension": ".py",
   "mimetype": "text/x-python",
   "name": "python",
   "nbconvert_exporter": "python",
   "pygments_lexer": "ipython3",
   "version": "3.11.5"
  },
  "orig_nbformat": 4
 },
 "nbformat": 4,
 "nbformat_minor": 2
}
