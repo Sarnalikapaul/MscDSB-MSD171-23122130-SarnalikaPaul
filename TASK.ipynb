{
 "cells": [
  {
   "cell_type": "markdown",
   "metadata": {},
   "source": [
    "1.load a csv,set new column names\n",
    "2.Rename coloumn names\n",
    "3.Load a dataset,set one coloumn as index coloumn\n",
    "4.split your data into multiple file w.r.t rows and coloumns\n",
    "5.split tour data into multiple files with respect to yours to r\n"
   ]
  },
  {
   "cell_type": "markdown",
   "metadata": {},
   "source": [
    "write a python program with following specifications\n",
    "there will be qa func named create dataset which will take a dictionary, filename,number of rows as a arguments.the dictionary is having the following structure\n",
    "{\n",
    "    \"col name\"[domain & value]\n",
    "    \"\"\n",
    "    \"\"\n",
    "}\n",
    "your func will select random values from each of the domains and create a new row for you.the no. of rows that has to be created is the parameter that has been taken.save the file with the required number of rows.load the dataset using pandas and display basic information.\n"
   ]
  },
  {
   "cell_type": "code",
   "execution_count": 2,
   "metadata": {},
   "outputs": [
    {
     "name": "stdout",
     "output_type": "stream",
     "text": [
      "Basic Information about the Loaded Dataset:\n",
      "<class 'pandas.core.frame.DataFrame'>\n",
      "RangeIndex: 1000 entries, 0 to 999\n",
      "Data columns (total 4 columns):\n",
      " #   Column  Non-Null Count  Dtype  \n",
      "---  ------  --------------  -----  \n",
      " 0   Age     1000 non-null   int64  \n",
      " 1   Income  1000 non-null   float64\n",
      " 2   City    1000 non-null   object \n",
      " 3   Gender  1000 non-null   object \n",
      "dtypes: float64(1), int64(1), object(2)\n",
      "memory usage: 31.4+ KB\n",
      "None\n",
      "\n",
      "Summary Statistics:\n",
      "               Age        Income\n",
      "count  1000.000000   1000.000000\n",
      "mean     42.056000  62870.253300\n",
      "std      13.545787  21634.910151\n",
      "min      18.000000  25082.810000\n",
      "25%      30.750000  44508.100000\n",
      "50%      42.000000  63102.545000\n",
      "75%      53.000000  81308.827500\n",
      "max      65.000000  99989.400000\n"
     ]
    }
   ],
   "source": [
    "import pandas as pd\n",
    "import random\n",
    "import csv\n",
    "def create_dataset(data_dict, filename, num_rows):\n",
    "    # Create an empty dictionary to store column data\n",
    "    dataset = {col_name: [] for col_name in data_dict}\n",
    "\n",
    "    # Generate random data based on the provided domain and values\n",
    "    for _ in range(num_rows):\n",
    "        for col_name, (domain, values) in data_dict.items():\n",
    "            if domain == \"int\":\n",
    "                dataset[col_name].append(random.randint(*values))\n",
    "            elif domain == \"float\":\n",
    "                dataset[col_name].append(round(random.uniform(*values), 2))\n",
    "            elif domain == \"str\":\n",
    "                dataset[col_name].append(random.choice(values))\n",
    "            else:\n",
    "                raise ValueError(f\"Unsupported domain: {domain}\")\n",
    "\n",
    "    # Create a DataFrame from the generated data\n",
    "    df = pd.DataFrame(dataset)\n",
    "\n",
    "    # Save the DataFrame to a CSV file\n",
    "    df.to_csv(filename, index=False, quoting=csv.QUOTE_NONNUMERIC)\n",
    "\n",
    "    # Load the dataset using Pandas\n",
    "    loaded_df = pd.read_csv(filename)\n",
    "\n",
    "    # Display basic information about the loaded dataset\n",
    "    print(\"Basic Information about the Loaded Dataset:\")\n",
    "    print(loaded_df.info())\n",
    "    print(\"\\nSummary Statistics:\")\n",
    "    print(loaded_df.describe())\n",
    "\n",
    "# Example usage:\n",
    "data_dict = {\n",
    "    \"Age\": (\"int\", (18, 65)),\n",
    "    \"Income\": (\"float\", (25000, 100000)),\n",
    "    \"City\": (\"str\", [\"New York\", \"Los Angeles\", \"Chicago\", \"Houston\", \"Miami\"]),\n",
    "    \"Gender\": (\"str\", [\"Male\", \"Female\"]),\n",
    "}\n",
    "\n",
    "filename = \"sample_dataset.csv\"\n",
    "num_rows = 1000\n",
    "\n",
    "create_dataset(data_dict, filename, num_rows)\n"
   ]
  },
  {
   "cell_type": "code",
   "execution_count": null,
   "metadata": {},
   "outputs": [],
   "source": []
  },
  {
   "cell_type": "markdown",
   "metadata": {},
   "source": []
  }
 ],
 "metadata": {
  "kernelspec": {
   "display_name": "Python 3",
   "language": "python",
   "name": "python3"
  },
  "language_info": {
   "codemirror_mode": {
    "name": "ipython",
    "version": 3
   },
   "file_extension": ".py",
   "mimetype": "text/x-python",
   "name": "python",
   "nbconvert_exporter": "python",
   "pygments_lexer": "ipython3",
   "version": "3.11.5"
  },
  "orig_nbformat": 4
 },
 "nbformat": 4,
 "nbformat_minor": 2
}
